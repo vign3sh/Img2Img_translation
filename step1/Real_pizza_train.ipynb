{
 "cells": [
  {
   "cell_type": "markdown",
   "metadata": {
    "gradient": {
     "editing": false,
     "id": "6d85c02d-f792-4877-b4eb-a8b36d576eaa",
     "kernelId": "2967f1e5-d10f-47e5-ad0c-b76c51edc344"
    },
    "id": "ZuNH9GcNx9V8",
    "tags": []
   },
   "source": [
    "# Mount the drive and unzip files."
   ]
  },
  {
   "cell_type": "code",
   "execution_count": 3,
   "metadata": {
    "colab": {
     "base_uri": "https://localhost:8080/"
    },
    "gradient": {
     "editing": false,
     "id": "aef8a8d0-93e1-44ab-bc78-505caa544e16",
     "kernelId": "2967f1e5-d10f-47e5-ad0c-b76c51edc344"
    },
    "id": "KsCvUv8w3O6_",
    "outputId": "4497c006-3fd0-4979-9207-aeab6293ad47"
   },
   "outputs": [],
   "source": [
    "# !unzip sample_real_train.zip > /dev/null\n",
    "# !unzip sample_fake_train.zip > /dev/null\n"
   ]
  },
  {
   "cell_type": "markdown",
   "metadata": {
    "gradient": {
     "editing": false,
     "id": "6f36f1fc-7068-4be7-99ba-768deb9658a4",
     "kernelId": "2967f1e5-d10f-47e5-ad0c-b76c51edc344"
    },
    "id": "y3jBZJzUXRrj"
   },
   "source": [
    "# Execution Pipeline\n"
   ]
  },
  {
   "cell_type": "code",
   "execution_count": 4,
   "metadata": {
    "gradient": {
     "editing": false,
     "id": "310a3cfe-4eb0-453e-85ca-c852de6d7cd5",
     "kernelId": "2967f1e5-d10f-47e5-ad0c-b76c51edc344",
     "source_hidden": false
    },
    "id": "l0iF_TX3XRrj"
   },
   "outputs": [],
   "source": [
    "import os\n",
    "import numpy as np\n",
    "from torch.utils.data import DataLoader\n",
    "from torchvision.datasets import ImageFolder\n",
    "import torchvision.transforms as T\n",
    "from PIL import Image\n",
    "import torch.nn as nn\n",
    "import matplotlib.pyplot as plt\n",
    "from torchvision.utils import make_grid\n",
    "import torch\n",
    "from torch.utils.tensorboard import SummaryWriter\n",
    "from torchvision.utils import save_image\n",
    "from torchvision import utils as vutils\n",
    "\n",
    "\n"
   ]
  },
  {
   "cell_type": "markdown",
   "metadata": {
    "id": "vWQgwap9XBp2"
   },
   "source": [
    "# Configuration Options "
   ]
  },
  {
   "cell_type": "markdown",
   "metadata": {
    "id": "m4dX1lfpiHBu"
   },
   "source": [
    "## below are current settings\n"
   ]
  },
  {
   "cell_type": "code",
   "execution_count": 5,
   "metadata": {
    "id": "ZRqiyO1pXEez"
   },
   "outputs": [],
   "source": [
    "device           = torch.device(\"cuda:1\")  \n",
    "test_name         = \"rl_train_6_\"                # Tesiting name."
   ]
  },
  {
   "cell_type": "markdown",
   "metadata": {
    "id": "RCvpIU8Yid3d"
   },
   "source": [
    "### training mode"
   ]
  },
  {
   "cell_type": "code",
   "execution_count": 6,
   "metadata": {
    "id": "v5MLLJQ9n_kv"
   },
   "outputs": [],
   "source": [
    "    # dataset configurations.\n",
    "    result_dataset_dir = f\"results_{test_name}\"  \n",
    "    real_train_data = './pizza/realpizza/data'\n",
    "    \n",
    "                  \n",
    "    batch_size            = 16   # Training batch size.\n",
    "    image_size = 256\n",
    "    \n",
    "                   \n",
    "    # Train params.\n",
    "    epochs                = 50  \n",
    "    lr = 0.0002  \n",
    "\n",
    "    # Loss function.\n",
    "    criterion = nn.MSELoss().to(device)                 # Adversarial loss.\n",
    "    # mean loss\n",
    "    mean_loss = nn.Sigmoid()\n",
    "\n",
    "\n",
    "    # Training log.\n",
    "    writer                = SummaryWriter(os.path.join(f\"{result_dataset_dir}/stats\",  \"logs\", test_name))\n",
    "    \n",
    "    # Additional variables and create directories\n",
    "    models_dir =  os.path.join(f\"{result_dataset_dir}/models\", test_name)\n",
    "    samples_dir = os.path.join(f\"{result_dataset_dir}/samples\", test_name)\n",
    "    results_dir = os.path.join(f\"{result_dataset_dir}/results\", test_name)\n",
    "    \n",
    "    \n",
    "    os.makedirs(result_dataset_dir, exist_ok=True)\n",
    "    os.makedirs(samples_dir, exist_ok=True)\n",
    "    os.makedirs(models_dir, exist_ok=True)\n",
    "    os.makedirs(results_dir, exist_ok=True)"
   ]
  },
  {
   "cell_type": "markdown",
   "metadata": {
    "gradient": {
     "editing": false,
     "id": "57d57958-fc23-4a4d-8d44-e6f09600b3f0",
     "kernelId": "2967f1e5-d10f-47e5-ad0c-b76c51edc344"
    },
    "id": "vCI4z8aSpRdf"
   },
   "source": [
    "# Testing the uploaded images"
   ]
  },
  {
   "cell_type": "code",
   "execution_count": 7,
   "metadata": {
    "gradient": {
     "editing": false,
     "id": "1d58757a-65f1-4d29-b0c9-e04e122ea281",
     "kernelId": "2967f1e5-d10f-47e5-ad0c-b76c51edc344"
    },
    "id": "e_fYyJUWpQ6Z"
   },
   "outputs": [],
   "source": [
    "\n",
    "#Test to display an image\n",
    "im = Image.open(real_train_data+'/images/'+os.listdir(real_train_data+'/images')[5]) \n"
   ]
  },
  {
   "cell_type": "markdown",
   "metadata": {
    "gradient": {
     "editing": false,
     "id": "1b777a58-f7dc-4b3e-aea0-457d39f13c63",
     "kernelId": "2967f1e5-d10f-47e5-ad0c-b76c51edc344"
    },
    "id": "hEUUWV-usLur",
    "jp-MarkdownHeadingCollapsed": true,
    "tags": []
   },
   "source": [
    "# Getting the images and loading them."
   ]
  },
  {
   "cell_type": "code",
   "execution_count": 8,
   "metadata": {
    "gradient": {
     "editing": true,
     "id": "46a8c9c4-2242-4609-adde-34cbbe29dd2d",
     "kernelId": "2967f1e5-d10f-47e5-ad0c-b76c51edc344"
    },
    "id": "Cez_fTTzsLJQ"
   },
   "outputs": [],
   "source": [
    "\n",
    "\n",
    "train_real_ds = ImageFolder(real_train_data, transform=T.Compose([\n",
    "    T.Resize(image_size),\n",
    "    T.CenterCrop(image_size),\n",
    "    T.ToTensor(),\n",
    "    T.Normalize((0.5, 0.5, 0.5), (0.5, 0.5, 0.5))\n",
    "]))\n",
    "\n",
    "real_train_dl = DataLoader(train_real_ds, batch_size, shuffle=True, num_workers=2, pin_memory=True)\n"
   ]
  },
  {
   "cell_type": "code",
   "execution_count": 9,
   "metadata": {
    "colab": {
     "base_uri": "https://localhost:8080/"
    },
    "gradient": {
     "editing": false,
     "id": "0f1ab1fd-2c75-4a50-8883-fac835549d7b",
     "kernelId": "2967f1e5-d10f-47e5-ad0c-b76c51edc344"
    },
    "id": "HjnD4SaezDwm",
    "outputId": "1378d7a4-f269-4ccc-cb6a-70a02b92d8d4"
   },
   "outputs": [
    {
     "name": "stdout",
     "output_type": "stream",
     "text": [
      "6688\n",
      "2\n",
      "3\n",
      "256\n",
      "256\n",
      "tensor([ 0.7255,  0.7412,  0.7490,  0.7490,  0.7490,  0.7490,  0.7490,  0.7490,\n",
      "         0.7490,  0.7490,  0.7412,  0.7412,  0.7255,  0.7098,  0.6941,  0.7020,\n",
      "         0.7020,  0.7176,  0.7333,  0.7255,  0.7490,  0.7412,  0.7490,  0.7569,\n",
      "         0.7569,  0.7569,  0.7647,  0.7490,  0.7490,  0.7647,  0.7725,  0.7647,\n",
      "         0.7255,  0.6941,  0.7176,  0.7569,  0.7569,  0.7647,  0.7647,  0.7647,\n",
      "         0.7569,  0.7569,  0.7569,  0.7569,  0.7647,  0.7725,  0.7804,  0.7804,\n",
      "         0.7804,  0.7804,  0.7804,  0.7804,  0.7804,  0.7725,  0.7725,  0.7725,\n",
      "         0.7725,  0.7569,  0.7569,  0.7569,  0.7569,  0.7490,  0.7490,  0.7490,\n",
      "         0.7490,  0.7412,  0.7490,  0.7647,  0.7020,  0.7098,  0.7333,  0.7490,\n",
      "         0.7490,  0.7490,  0.7333,  0.7098,  0.7098,  0.7020,  0.7176,  0.7333,\n",
      "         0.7490,  0.7490,  0.7569,  0.7647,  0.7647,  0.7569,  0.7569,  0.7647,\n",
      "         0.7725,  0.7725,  0.7725,  0.7725,  0.7725,  0.7725,  0.7725,  0.7647,\n",
      "         0.7647,  0.7647,  0.7647,  0.7725,  0.7725,  0.7725,  0.7725,  0.7725,\n",
      "         0.7725,  0.7725,  0.7725,  0.7725,  0.7647,  0.7647,  0.7647,  0.7647,\n",
      "         0.7647,  0.7569,  0.7333,  0.6941,  0.6706,  0.6941,  0.6863,  0.6784,\n",
      "         0.6627,  0.6627,  0.6627,  0.6706,  0.6706,  0.6627,  0.6627,  0.6627,\n",
      "         0.6549,  0.6549,  0.6627,  0.6549,  0.6471,  0.6392,  0.6392,  0.6314,\n",
      "         0.6314,  0.6157,  0.6000,  0.6000,  0.6078,  0.6078,  0.6000,  0.6000,\n",
      "         0.6078,  0.5922,  0.5765,  0.5608,  0.5294,  0.5686,  0.6392,  0.6784,\n",
      "         0.7098,  0.7020,  0.6863,  0.7020,  0.7098,  0.7098,  0.7098,  0.7020,\n",
      "         0.6941,  0.6941,  0.6941,  0.6863,  0.6863,  0.6863,  0.6863,  0.6863,\n",
      "         0.6863,  0.6863,  0.6863,  0.6863,  0.6863,  0.6941,  0.6941,  0.6941,\n",
      "         0.7020,  0.7020,  0.6941,  0.6471,  0.6549,  0.7176,  0.7333,  0.7333,\n",
      "         0.7333,  0.7333,  0.7333,  0.7333,  0.7333,  0.7333,  0.7333,  0.7333,\n",
      "         0.7333,  0.7412,  0.7490,  0.7647,  0.6235, -0.1765, -0.5373, -0.6000,\n",
      "        -0.5922, -0.6000, -0.5922, -0.5922, -0.6000, -0.5843, -0.5294, -0.4431,\n",
      "        -0.3647, -0.3020, -0.2627, -0.1765,  0.1294,  0.6549,  0.7804,  0.7647,\n",
      "         0.7725,  0.8039,  0.8039,  0.7804,  0.7725,  0.7882,  0.8039,  0.7882,\n",
      "         0.7804,  0.7961,  0.8039,  0.7961,  0.7882,  0.8118,  0.8039,  0.7882,\n",
      "         0.7725,  0.7725,  0.7961,  0.7882,  0.7804,  0.7961,  0.7961,  0.7882,\n",
      "         0.7725,  0.7804,  0.7804,  0.7804,  0.7725,  0.7804,  0.7961,  0.7804,\n",
      "         0.7725,  0.7647,  0.7804,  0.7882,  0.7804,  0.7804,  0.7961,  0.7804])\n"
     ]
    }
   ],
   "source": [
    "print(len(train_real_ds))\n",
    "print(len(train_real_ds[0]))\n",
    "print(len(train_real_ds[0][0]))\n",
    "print(len(train_real_ds[0][0][0]))\n",
    "print(len(train_real_ds[0][0][0][0]))\n",
    "print(train_real_ds[0][0][0][0])\n"
   ]
  },
  {
   "cell_type": "markdown",
   "metadata": {
    "gradient": {
     "editing": false,
     "id": "53102422-af0c-4871-a06f-791d0e8bfb9d",
     "kernelId": "2967f1e5-d10f-47e5-ad0c-b76c51edc344"
    },
    "id": "w_VUGDq9w7qo",
    "tags": []
   },
   "source": [
    "# Basic functions to display images"
   ]
  },
  {
   "cell_type": "code",
   "execution_count": 10,
   "metadata": {
    "colab": {
     "base_uri": "https://localhost:8080/"
    },
    "gradient": {
     "editing": false,
     "id": "31b079a5-2cc2-4629-b6ae-ede932b9e45e",
     "kernelId": "2967f1e5-d10f-47e5-ad0c-b76c51edc344"
    },
    "id": "9uAGgPpbw8AZ",
    "outputId": "d51ea7d2-392e-46fe-d6d7-f825db046d99"
   },
   "outputs": [
    {
     "name": "stdout",
     "output_type": "stream",
     "text": [
      "torch.Size([16, 3, 256, 256])\n"
     ]
    },
    {
     "name": "stderr",
     "output_type": "stream",
     "text": [
      "Clipping input data to the valid range for imshow with RGB data ([0..1] for floats or [0..255] for integers).\n"
     ]
    },
    {
     "data": {
      "image/png": "[encoded data removed]",
      "text/plain": [
       "<Figure size 576x576 with 1 Axes>"
      ]
     },
     "metadata": {},
     "output_type": "display_data"
    }
   ],
   "source": [
    "%matplotlib inline\n",
    "\n",
    "def denorm(img_tensors):\n",
    "    return img_tensors\n",
    "def show_images(images, nmax=64):\n",
    "    print(images.shape)\n",
    "    fig, ax = plt.subplots(figsize=(8, 8))\n",
    "    ax.set_xticks([]); ax.set_yticks([])\n",
    "    ax.imshow(make_grid(images.detach()[:nmax], nrow=8).permute(1, 2, 0))\n",
    "\n",
    "def show_batch(dl, nmax=64):\n",
    "    for images, _ in dl:\n",
    "        show_images(images, nmax)\n",
    "        break\n",
    "show_batch(real_train_dl)"
   ]
  },
  {
   "cell_type": "markdown",
   "metadata": {
    "gradient": {
     "editing": false,
     "id": "f538dbac-2092-41e4-82fc-6a88387c6943",
     "kernelId": "2967f1e5-d10f-47e5-ad0c-b76c51edc344"
    },
    "id": "hy9CVCQWCXne"
   },
   "source": [
    "# Check for gpu and load data"
   ]
  },
  {
   "cell_type": "code",
   "execution_count": 11,
   "metadata": {
    "gradient": {
     "editing": false,
     "id": "e5bbebe3-58a3-4532-bd30-715f4613f14a",
     "kernelId": "2967f1e5-d10f-47e5-ad0c-b76c51edc344"
    },
    "id": "telpjOKWCYLm"
   },
   "outputs": [],
   "source": [
    "def to_device(data, device):\n",
    "    \"\"\"Move tensor(s) to chosen device\"\"\"\n",
    "    if isinstance(data, (list,tuple)):\n",
    "        return [to_device(x, device) for x in data]\n",
    "    return data.to(device, non_blocking=True)\n",
    "\n",
    "class DeviceDataLoader():\n",
    "    \"\"\"Wrap a dataloader to move data to a device\"\"\"\n",
    "    def __init__(self, dl, device):\n",
    "        self.dl = dl\n",
    "        self.device = device\n",
    "        \n",
    "    def __iter__(self):\n",
    "        \"\"\"Yield a batch of data after moving it to device\"\"\"\n",
    "        for b in self.dl: \n",
    "            yield to_device(b, self.device)\n",
    "\n",
    "    def __len__(self):\n",
    "        \"\"\"Number of batches\"\"\"\n",
    "        return len(self.dl)\n",
    "real_train_dl = DeviceDataLoader(real_train_dl, device)\n"
   ]
  },
  {
   "cell_type": "markdown",
   "metadata": {
    "gradient": {
     "editing": false,
     "id": "a12af9ca-ab00-4c67-8313-deecc861796a",
     "kernelId": "2967f1e5-d10f-47e5-ad0c-b76c51edc344"
    },
    "id": "A1JNJmQcLTJF"
   },
   "source": [
    "# Discriminator"
   ]
  },
  {
   "cell_type": "code",
   "execution_count": 12,
   "metadata": {
    "gradient": {
     "editing": false,
     "id": "20138ee6-a6bf-4193-a6a8-d89e255d092c",
     "kernelId": "2967f1e5-d10f-47e5-ad0c-b76c51edc344"
    },
    "id": "npo2wNNjLizx"
   },
   "outputs": [],
   "source": [
    "# Discriminator architecture from J. Johnson, A. Alahi, and L. Fei-Fei, “Perceptual losses for real-time style transfer and super-resolution,” in ECCV, 2016.\n",
    "# C64 − C128 − C256 − C512\n",
    "\n",
    "class Discriminator(nn.Module):\n",
    "    def __init__(self):\n",
    "        super(Discriminator, self).__init__()\n",
    "        # C64 − C128 − C256 − C512\n",
    "\n",
    "        self.c64 = nn.Sequential(\n",
    "            nn.Conv2d(3, 64, kernel_size=4, stride=2, padding=1, bias=False),\n",
    "            nn.LeakyReLU(negative_slope=0.2, inplace=True)\n",
    "        )\n",
    "        self.c128 = nn.Sequential(\n",
    "            nn.Conv2d(64, 128, kernel_size=4, stride=2, padding=1, bias=False),\n",
    "            nn.InstanceNorm2d(128, affine=True),\n",
    "            nn.LeakyReLU(negative_slope=0.2, inplace=True)\n",
    "\n",
    "        )\n",
    "        self.c256 = nn.Sequential(\n",
    "            nn.Conv2d(128, 256,kernel_size=4, stride=2, padding=1, bias=False),\n",
    "            nn.InstanceNorm2d(256, affine=True),\n",
    "            nn.LeakyReLU(negative_slope=0.2, inplace=True)\n",
    "        )\n",
    "        self.c512 = nn.Sequential(\n",
    "            nn.Conv2d(256, 512, kernel_size=4, stride=1, padding=1, bias=False),\n",
    "            nn.InstanceNorm2d(512, affine=True),\n",
    "            nn.LeakyReLU(negative_slope=0.2, inplace=True)\n",
    "        )\n",
    "        \n",
    "        # single output \n",
    "        self.single_cov = nn.Conv2d(512, 1, kernel_size=4, stride=1, padding=1)\n",
    "\n",
    "    \n",
    "    def forward(self, x):\n",
    "        x = self.c64(x)\n",
    "        x = self.c128(x)\n",
    "        x = self.c256(x)\n",
    "        x = self.c512(x)\n",
    "        x=self.single_cov(x)\n",
    "        return x\n",
    "        "
   ]
  },
  {
   "cell_type": "code",
   "execution_count": 13,
   "metadata": {
    "gradient": {
     "editing": false,
     "id": "6d2ab1a0-f6ec-48c4-9822-07725dc54d60",
     "kernelId": "2967f1e5-d10f-47e5-ad0c-b76c51edc344"
    },
    "id": "sRoJosFKLtJl"
   },
   "outputs": [],
   "source": [
    "# create the discriminator\n",
    "discriminator = to_device(Discriminator(), device)"
   ]
  },
  {
   "cell_type": "code",
   "execution_count": 14,
   "metadata": {},
   "outputs": [],
   "source": [
    "# prallelise the discriminator\n",
    "discriminator = nn.DataParallel(discriminator, device_ids=[1,3])"
   ]
  },
  {
   "cell_type": "markdown",
   "metadata": {
    "gradient": {
     "editing": false,
     "id": "54c0d8b1-0d46-4016-be3c-e8faa54a4e00",
     "kernelId": "2967f1e5-d10f-47e5-ad0c-b76c51edc344"
    },
    "id": "a5qWFKnFM7d8",
    "tags": []
   },
   "source": [
    "# Generator"
   ]
  },
  {
   "cell_type": "code",
   "execution_count": 15,
   "metadata": {
    "gradient": {
     "editing": false,
     "id": "e8cbb37f-1351-41b3-9870-aa670a48d7d7",
     "kernelId": "2967f1e5-d10f-47e5-ad0c-b76c51edc344",
     "source_hidden": false
    },
    "id": "shQbxW3hXRrp"
   },
   "outputs": [],
   "source": [
    "# Residual block\n",
    "class Reisdual(nn.Module):\n",
    "    \n",
    "    def __init__(self, input):\n",
    "        super(Reisdual, self).__init__()\n",
    "        kernel =3\n",
    "        stride=1\n",
    "        relflection_padding = (kernel-1)//2\n",
    "        padding=0\n",
    "\n",
    "        self.conv1 = nn.Sequential(\n",
    "            nn.ReflectionPad2d(padding=relflection_padding),\n",
    "            nn.Conv2d(input, input, kernel_size=kernel, stride=stride, padding=padding),\n",
    "            nn.InstanceNorm2d(input, affine=False, track_running_stats=False),\n",
    "            nn.ReLU(inplace=True)\n",
    "        )\n",
    "        self.conv2 = nn.Sequential(\n",
    "            nn.ReflectionPad2d(padding=relflection_padding),\n",
    "            nn.Conv2d(input, input, kernel_size=kernel, stride=stride, padding=padding),\n",
    "            nn.InstanceNorm2d(input, affine=False, track_running_stats=False),\n",
    "        )        \n",
    "\n",
    "    def forward(self, x):\n",
    "        residual = x\n",
    "        x = self.conv1(x)\n",
    "        x = self.conv2(x)        \n",
    "        return x + residual"
   ]
  },
  {
   "cell_type": "code",
   "execution_count": 16,
   "metadata": {
    "gradient": {
     "editing": false,
     "id": "4be1bc09-5618-4ffb-aa5a-2f590b72fb2f",
     "kernelId": "2967f1e5-d10f-47e5-ad0c-b76c51edc344"
    },
    "id": "LTs4ZAH6M7Mk"
   },
   "outputs": [],
   "source": [
    "\n",
    "\n",
    "# genarator architecture from J. Johnson, A. Alahi, and L. Fei-Fei, “Perceptual losses for real-time style transfer and super-resolution,” in ECCV, 2016.\n",
    "# c7s1 − 64,d128,d256,R256,R256,R256,R256,R256,R256,R256,R256,R256,u128,u64,c7s1_3\n",
    "\n",
    "class Generator(nn.Module):\n",
    "    def __init__(self):\n",
    "        super(Generator, self).__init__()\n",
    "\n",
    "        self.c7s1_64 = self.c7s1_k_64(3, 64, 7, 1)\n",
    "        self.d128 = self.d_k(64, 128, 3, 2)\n",
    "        self.d256 = self.d_k(128, 256, 3, 2)\n",
    "        self.R256 = self.residual_block(256)\n",
    "        self.u128 = self.u_k(256, 128, 3, 2)\n",
    "        self.u64 = self.u_k(128, 64, 3, 2)\n",
    "        self.c7s1_3 = self.c7s1_k_3(64, 3, 7, 1)\n",
    "\n",
    "                 \n",
    "    \n",
    "    # c7s1 − 64\n",
    "    def c7s1_k_64(self, input, output, kernel, stride):\n",
    "        reflection_padding = (kernel - 1) // 2\n",
    "        padding=0\n",
    "        module = nn.Sequential(\n",
    "            nn.ReflectionPad2d(padding=reflection_padding),\n",
    "            nn.Conv2d(input, output, kernel_size=kernel,\n",
    "                      stride=stride, padding=padding),\n",
    "            nn.InstanceNorm2d(output, affine=False, track_running_stats=False),\n",
    "            nn.ReLU(inplace=True)\n",
    "        )\n",
    "\n",
    "        return module\n",
    "\n",
    "\n",
    "        return module\n",
    "    #c7s1_3\n",
    "    def c7s1_k_3(self, input, output, kernel, stride):\n",
    "        reflection_padding = (kernel - 1) // 2\n",
    "        padding=0\n",
    "        return nn.Sequential(\n",
    "            nn.ReflectionPad2d(padding=reflection_padding),\n",
    "            nn.Conv2d(input, output, kernel_size=kernel,\n",
    "                      stride=stride, padding=padding, bias=False),\n",
    "        )\n",
    "\n",
    "    # D128,D256\n",
    "    def d_k(self, input, output, kernel, stride):\n",
    "        padding=(kernel - 1) // 2\n",
    "        # no reflection padding\n",
    "        module = nn.Sequential(\n",
    "            nn.Conv2d(input, output, kernel_size=kernel,\n",
    "                      stride=stride, padding=padding, bias=False),\n",
    "            nn.InstanceNorm2d(output, affine=True),\n",
    "            nn.ReLU(True)\n",
    "        )\n",
    "        return module\n",
    "    \n",
    "    # R256 Residual block defined above\n",
    "    def residual_block(self, input):\n",
    "        return Reisdual(input)\n",
    "\n",
    "    \n",
    "    # u128,u256\n",
    "    def u_k(self, input, output, kernel, stride):\n",
    "        module = nn.Sequential(\n",
    "            nn.ConvTranspose2d(input, output, kernel_size=kernel,\n",
    "                               stride=stride, padding=1, output_padding=1),\n",
    "            nn.InstanceNorm2d(output, affine=False),\n",
    "            nn.ReLU(inplace=True)\n",
    "        )\n",
    "        return module\n",
    "\n",
    "    def forward(self, x):\n",
    "\n",
    "        x = self.c7s1_64(x)\n",
    "        x = self.d128(x)\n",
    "        x = self.d256(x)\n",
    "\n",
    "        # 9 times residual block\n",
    "        for i in range(9):\n",
    "            x = self.R256(x)\n",
    "\n",
    "        # u128\n",
    "        x = self.u128(x)\n",
    "        # u64\n",
    "        x = self.u64(x)\n",
    "        # c7s1_3\n",
    "        x = self.c7s1_3(x)\n",
    "        return x\n"
   ]
  },
  {
   "cell_type": "code",
   "execution_count": 17,
   "metadata": {
    "gradient": {
     "editing": false,
     "id": "752b9bc9-67bf-460c-8a0b-60cdaa4835b9",
     "kernelId": "2967f1e5-d10f-47e5-ad0c-b76c51edc344"
    },
    "id": "ioFoSdDnXRrp"
   },
   "outputs": [],
   "source": [
    "# create the generator\n",
    "generator = Generator()\n",
    "generator = to_device(generator, device)"
   ]
  },
  {
   "cell_type": "code",
   "execution_count": 18,
   "metadata": {},
   "outputs": [],
   "source": [
    "# parallelise the generator\n",
    "generator = nn.DataParallel(generator, device_ids=[1,3])"
   ]
  },
  {
   "cell_type": "code",
   "execution_count": null,
   "metadata": {
    "colab": {
     "base_uri": "https://localhost:8080/"
    },
    "gradient": {
     "editing": false,
     "id": "a7c479e2-903b-4602-9825-ac534ff7cbdf",
     "kernelId": "2967f1e5-d10f-47e5-ad0c-b76c51edc344"
    },
    "id": "yUMKZxKSNsxb",
    "outputId": "73e2965a-d25c-40d5-e2ac-c65d5f22eed6"
   },
   "outputs": [],
   "source": [
    "# test generator\n",
    "# first create a generator\n",
    "# then test it\n",
    "\n",
    "# generate a random noise\n",
    "z = torch.randn(batch_size, 3, 256, 256)\n",
    "z=z.to(device)\n",
    "# generate a fake image\n",
    "fake_image = generator(z)\n",
    "print(fake_image.shape)\n",
    "img_grid = vutils.make_grid(fake_image, padding=2, normalize=True, nrow=8).cpu()\n",
    "# show the fake image\n",
    "\n",
    "fig=plt.figure(figsize=(16, 16))\n",
    "plt.axis(\"off\")\n",
    "plt.title(\"Generated real pizza images\")\n",
    "plt.imshow(np.transpose(img_grid, (1, 2, 0)))\n",
    "fig.savefig('test_rl_no_tan.png')\n"
   ]
  },
  {
   "cell_type": "markdown",
   "metadata": {
    "gradient": {
     "editing": false,
     "id": "5fbb5b49-647a-410a-aaec-12267f6e59ac",
     "kernelId": "2967f1e5-d10f-47e5-ad0c-b76c51edc344"
    },
    "id": "VMS-ecMcXRrp"
   },
   "source": [
    "# intialise weights"
   ]
  },
  {
   "cell_type": "code",
   "execution_count": 20,
   "metadata": {
    "gradient": {
     "editing": false,
     "id": "0021fafb-9017-41e6-9d4c-dc179d7b8c5e",
     "kernelId": "2967f1e5-d10f-47e5-ad0c-b76c51edc344",
     "source_hidden": false
    },
    "id": "buP1f4GRXRrp"
   },
   "outputs": [],
   "source": [
    "def init_weights(module):\n",
    "    assert isinstance(module, nn.Module)\n",
    "    if hasattr(module, \"weight\") and module.weight is not None:\n",
    "        torch.nn.init.normal_(module.weight, mean=0.0, std=0.02)\n",
    "    if hasattr(module, \"bias\") and module.bias is not None:\n",
    "        torch.nn.init.constant_(module.bias, 0.0)\n",
    "    for c in module.children():\n",
    "        init_weights(c)\n",
    "\n",
    "init_weights(generator) \n",
    "init_weights(discriminator)       "
   ]
  },
  {
   "cell_type": "markdown",
   "metadata": {
    "gradient": {
     "editing": false,
     "id": "54c97d4a-1042-4eca-b672-63fef72f9f2a",
     "kernelId": "2967f1e5-d10f-47e5-ad0c-b76c51edc344"
    },
    "id": "nUKMHtHjWb0P",
    "tags": []
   },
   "source": [
    "# Discriminator Training"
   ]
  },
  {
   "cell_type": "code",
   "execution_count": 21,
   "metadata": {
    "gradient": {
     "editing": false,
     "id": "5c395e63-2ba3-4879-b72c-8263c0a957d1",
     "kernelId": "2967f1e5-d10f-47e5-ad0c-b76c51edc344"
    },
    "id": "CvjEhOE9WcEW"
   },
   "outputs": [],
   "source": [
    "from tqdm.notebook import tqdm\n",
    "import torch.nn.functional as F\n",
    "\n",
    "\n",
    "def train_discriminator(real_images, opt_d):\n",
    "    # Clear discriminator gradients\n",
    "    opt_d.zero_grad()\n",
    "\n",
    "    # Pass real images through discriminator\n",
    "    real_preds = discriminator(real_images)\n",
    "    real_targets = torch.ones_like(real_preds,device=device)\n",
    "\n",
    "    real_loss = criterion(real_preds, real_targets)\n",
    "    with torch.no_grad():\n",
    "        real_score = mean_loss(real_preds).mean().item()\n",
    "    \n",
    "\n",
    "    # Generate fake images\n",
    "    sample=torch.randn(batch_size, 3, 256, 256, device=device)\n",
    "    sample=sample.to(device)\n",
    "    fake_images = generator(sample)\n",
    "\n",
    "    # Pass fake images through discriminator\n",
    "    fake_preds = discriminator(fake_images.detach())\n",
    "    fake_targets = torch.zeros_like(fake_preds,device=device)\n",
    "\n",
    "    fake_loss = criterion(fake_preds, fake_targets)\n",
    "    with torch.no_grad():\n",
    "        fake_score = mean_loss(fake_preds).mean().item()\n",
    "    \n",
    "    # Update discriminator weights\n",
    "    loss = (real_loss + fake_loss)/2\n",
    "    loss.backward()\n",
    "    opt_d.step()\n",
    "    return loss.item(), real_score,fake_score"
   ]
  },
  {
   "cell_type": "markdown",
   "metadata": {
    "gradient": {
     "editing": false,
     "id": "41e14caf-6e2e-4dad-96e7-41178d5ac00b",
     "kernelId": "2967f1e5-d10f-47e5-ad0c-b76c51edc344"
    },
    "id": "rJvhAyz4BKV7",
    "tags": []
   },
   "source": [
    "# Generator Training"
   ]
  },
  {
   "cell_type": "code",
   "execution_count": 22,
   "metadata": {
    "gradient": {
     "editing": false,
     "id": "10e3fd46-77f8-4ef4-8e5d-3b6f3744bf7e",
     "kernelId": "2967f1e5-d10f-47e5-ad0c-b76c51edc344"
    },
    "id": "HeaH6C0ZBKrG"
   },
   "outputs": [],
   "source": [
    "def train_generator(opt_g):\n",
    "    # Clear generator gradients\n",
    "    opt_g.zero_grad()\n",
    "    \n",
    "    # Generate fake images\n",
    "    sample=torch.randn(batch_size, 3, 256, 256, device=device)\n",
    "    sample=sample.to(device)\n",
    "    fake_images = generator(sample)\n",
    "    \n",
    "    # Try to fool the discriminator\n",
    "    preds = discriminator(fake_images)\n",
    "    targets = torch.ones_like(preds, device=device)\n",
    "    loss = criterion(preds, targets)\n",
    "    with torch.no_grad():\n",
    "        fake_score_gen = mean_loss(preds).mean().item()\n",
    "\n",
    "\n",
    "    # Update generator weights\n",
    "    loss.backward()\n",
    "    opt_g.step()\n",
    "    \n",
    "    return loss.item(),fake_score_gen"
   ]
  },
  {
   "cell_type": "markdown",
   "metadata": {
    "gradient": {
     "editing": false,
     "id": "9f3edd9b-d253-498b-93eb-161adc7ab032",
     "kernelId": "2967f1e5-d10f-47e5-ad0c-b76c51edc344"
    },
    "id": "Q7pJjl2lBvkR",
    "tags": []
   },
   "source": [
    "# Save generated images"
   ]
  },
  {
   "cell_type": "code",
   "execution_count": 23,
   "metadata": {
    "gradient": {
     "editing": false,
     "id": "f402b0ea-6df6-4dfe-8bd0-33ea56a8b20d",
     "kernelId": "2967f1e5-d10f-47e5-ad0c-b76c51edc344",
     "source_hidden": false
    },
    "id": "u7JrVfGtXRrq"
   },
   "outputs": [],
   "source": [
    "# save sample images \n",
    "\n",
    "def save_samples(epoch=1):\n",
    "    # Generate fake images\n",
    "    sample=torch.randn(batch_size, 3, 256, 256, device=device)\n",
    "    sample=sample.to(device)\n",
    "    fake_images = generator(sample).cpu().detach()\n",
    "    img_grid = vutils.make_grid(fake_images, padding=2, normalize=True, nrow=8).cpu()\n",
    "\n",
    "    fig=plt.figure(figsize=(16, 16))\n",
    "    plt.axis(\"off\")\n",
    "    plt.title(f\"Generated image of {epoch}\")\n",
    "    plt.imshow(np.transpose(img_grid, (1, 2, 0)))\n",
    "    fig.savefig(f'{samples_dir}/genrated_{epoch}.png')\n"
   ]
  },
  {
   "cell_type": "markdown",
   "metadata": {
    "gradient": {
     "editing": false,
     "id": "3d0342be-76e1-4608-a5f9-cbb9b37b10ce",
     "kernelId": "2967f1e5-d10f-47e5-ad0c-b76c51edc344"
    },
    "id": "AUfGQRQCCvY-"
   },
   "source": [
    "# Training loop"
   ]
  },
  {
   "cell_type": "code",
   "execution_count": 24,
   "metadata": {
    "gradient": {
     "editing": false,
     "id": "05067957-ff9b-412e-b27c-ec92f69ed26c",
     "kernelId": "2967f1e5-d10f-47e5-ad0c-b76c51edc344"
    },
    "id": "zJvDPz-MCv6x"
   },
   "outputs": [],
   "source": [
    "def fit(epochs, lr, start_idx=1):\n",
    "    torch.cuda.empty_cache()\n",
    "    \n",
    "    # Losses & scores\n",
    "    losses_g = []\n",
    "    losses_d = []\n",
    "    real_scores = []\n",
    "    fake_scores = []\n",
    "    fake_scores_g =[]\n",
    "\n",
    "    loss_g=0\n",
    "    loss_d=0\n",
    "    real_score=0\n",
    "    fake_score=0\n",
    "    fake_score_g=0\n",
    "    # Create optimizers\n",
    "    opt_d = torch.optim.Adam(discriminator.parameters(), lr=lr, betas=(0.5, 0.999))\n",
    "    opt_g = torch.optim.Adam(generator.parameters(), lr=lr, betas=(0.5, 0.999))\n",
    "    \n",
    "    batches = len(real_train_dl)\n",
    "    \n",
    "    discriminator.train()\n",
    "    generator.train()\n",
    "    \n",
    "    for epoch in range(epochs):\n",
    "        # for real_images, _ in tqdm(real_train_dl):\n",
    "        for index, (real_images, _) in enumerate(real_train_dl):\n",
    "            #print(len(real_images))\n",
    "            # Train discriminator\n",
    "            loss_d, real_score, fake_score = train_discriminator(real_images, opt_d)\n",
    "            # Train generator\n",
    "            loss_g,fake_score_g = train_generator(opt_g)\n",
    "\n",
    "            # Save losses & scores to summarywirter\n",
    "            iters = index + epoch * batches + 1\n",
    "            writer.add_scalar(\"Train_Adversarial/D_Loss\", loss_d, iters)\n",
    "            writer.add_scalar(\"Train_Adversarial/G_Loss\", loss_g, iters)\n",
    "            writer.add_scalar(\"Train_Adversarial/D_Real\", real_score, iters)\n",
    "            writer.add_scalar(\"Train_Adversarial/D_Fake_Discriminator\", fake_score, iters)\n",
    "            writer.add_scalar(\"Train_Adversarial/D_Fake_Genrator\", fake_score_g, iters)\n",
    "            \n",
    "        # Record losses & scores to lists\n",
    "        losses_g.append(loss_g)\n",
    "        losses_d.append(loss_d)\n",
    "        real_scores.append(real_score)\n",
    "        fake_scores.append(fake_score)\n",
    "        fake_scores_g.append(fake_score_g)\n",
    "\n",
    "\n",
    "        # Log losses & scores (last batch)\n",
    "        print(\"Epoch [{}/{}], loss_g: {:.4f}, loss_d: {:.4f}, real_score: {:.4f}, fake_score: {:.4f}\".format(\n",
    "            epoch+1, epochs, loss_g, loss_d, real_score, fake_score))\n",
    "    \n",
    "        # Save generated imagess\n",
    "        save_samples(epoch)\n",
    "        # save model\n",
    "        torch.save(discriminator.state_dict(), os.path.join(models_dir, f\"discr_{epoch}.pth\"))\n",
    "        torch.save(generator.state_dict(), os.path.join(models_dir, f\"genr_{epoch}.pth\"))\n",
    "\n",
    "    \n",
    "    return losses_g, losses_d, real_scores, fake_scores,fake_scores_g"
   ]
  },
  {
   "cell_type": "code",
   "execution_count": null,
   "metadata": {
    "colab": {
     "base_uri": "https://localhost:8080/"
    },
    "gradient": {
     "editing": false,
     "id": "f5bdabf1-69b1-4879-97b8-5bd9ccd4b496",
     "kernelId": "2967f1e5-d10f-47e5-ad0c-b76c51edc344"
    },
    "id": "3-TAa1r1D5i3",
    "outputId": "b5a21eb9-9f47-4931-bcd8-1344925472bb"
   },
   "outputs": [],
   "source": [
    "history = fit(epochs, lr)"
   ]
  },
  {
   "cell_type": "code",
   "execution_count": 26,
   "metadata": {
    "colab": {
     "base_uri": "https://localhost:8080/",
     "height": 178
    },
    "gradient": {
     "editing": false,
     "id": "ccadb2ea-6b79-491c-8252-d6067223d007",
     "kernelId": "2967f1e5-d10f-47e5-ad0c-b76c51edc344",
     "source_hidden": false
    },
    "id": "SwnyRuL4XRrr",
    "outputId": "9c7a4522-47d0-446d-9dd9-61ae8d939c15"
   },
   "outputs": [
    {
     "data": {
      "text/plain": [
       "'|===========================================================================|\\n|                  PyTorch CUDA memory summary, device ID 0                 |\\n|---------------------------------------------------------------------------|\\n|            CUDA OOMs: 0            |        cudaMalloc retries: 0         |\\n|===========================================================================|\\n|        Metric         | Cur Usage  | Peak Usage | Tot Alloc  | Tot Freed  |\\n|---------------------------------------------------------------------------|\\n| Allocated memory      |       0 B  |       0 B  |       0 B  |       0 B  |\\n|       from large pool |       0 B  |       0 B  |       0 B  |       0 B  |\\n|       from small pool |       0 B  |       0 B  |       0 B  |       0 B  |\\n|---------------------------------------------------------------------------|\\n| Active memory         |       0 B  |       0 B  |       0 B  |       0 B  |\\n|       from large pool |       0 B  |       0 B  |       0 B  |       0 B  |\\n|       from small pool |       0 B  |       0 B  |       0 B  |       0 B  |\\n|---------------------------------------------------------------------------|\\n| GPU reserved memory   |       0 B  |       0 B  |       0 B  |       0 B  |\\n|       from large pool |       0 B  |       0 B  |       0 B  |       0 B  |\\n|       from small pool |       0 B  |       0 B  |       0 B  |       0 B  |\\n|---------------------------------------------------------------------------|\\n| Non-releasable memory |       0 B  |       0 B  |       0 B  |       0 B  |\\n|       from large pool |       0 B  |       0 B  |       0 B  |       0 B  |\\n|       from small pool |       0 B  |       0 B  |       0 B  |       0 B  |\\n|---------------------------------------------------------------------------|\\n| Allocations           |       0    |       0    |       0    |       0    |\\n|       from large pool |       0    |       0    |       0    |       0    |\\n|       from small pool |       0    |       0    |       0    |       0    |\\n|---------------------------------------------------------------------------|\\n| Active allocs         |       0    |       0    |       0    |       0    |\\n|       from large pool |       0    |       0    |       0    |       0    |\\n|       from small pool |       0    |       0    |       0    |       0    |\\n|---------------------------------------------------------------------------|\\n| GPU reserved segments |       0    |       0    |       0    |       0    |\\n|       from large pool |       0    |       0    |       0    |       0    |\\n|       from small pool |       0    |       0    |       0    |       0    |\\n|---------------------------------------------------------------------------|\\n| Non-releasable allocs |       0    |       0    |       0    |       0    |\\n|       from large pool |       0    |       0    |       0    |       0    |\\n|       from small pool |       0    |       0    |       0    |       0    |\\n|---------------------------------------------------------------------------|\\n| Oversize allocations  |       0    |       0    |       0    |       0    |\\n|---------------------------------------------------------------------------|\\n| Oversize GPU segments |       0    |       0    |       0    |       0    |\\n|===========================================================================|\\n'"
      ]
     },
     "execution_count": 26,
     "metadata": {},
     "output_type": "execute_result"
    }
   ],
   "source": [
    "torch.cuda.empty_cache()\n",
    "import gc\n",
    "gc.collect()\n",
    "torch.cuda.memory_summary(device=None, abbreviated=False)\n"
   ]
  }
 ],
 "metadata": {
  "accelerator": "GPU",
  "colab": {
   "collapsed_sections": [
    "ZuNH9GcNx9V8",
    "vCI4z8aSpRdf",
    "hEUUWV-usLur",
    "w_VUGDq9w7qo",
    "hy9CVCQWCXne",
    "A1JNJmQcLTJF",
    "a5qWFKnFM7d8"
   ],
   "name": "gan_256_colab.ipynb",
   "provenance": []
  },
  "kernelspec": {
   "display_name": "Python 3 (ipykernel)",
   "language": "python",
   "name": "python3"
  },
  "language_info": {
   "codemirror_mode": {
    "name": "ipython",
    "version": 3
   },
   "file_extension": ".py",
   "mimetype": "text/x-python",
   "name": "python",
   "nbconvert_exporter": "python",
   "pygments_lexer": "ipython3",
   "version": "3.9.7"
  }
 },
 "nbformat": 4,
 "nbformat_minor": 4
}
